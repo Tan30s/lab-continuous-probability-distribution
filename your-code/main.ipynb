{
 "cells": [
  {
   "cell_type": "markdown",
   "metadata": {},
   "source": [
    "# Before your start:\n",
    "\n",
    "    Read the README.md file\n",
    "    Comment as much as you can and use the resources (README.md file)\n",
    "    Happy learning!"
   ]
  },
  {
   "cell_type": "markdown",
   "metadata": {},
   "source": [
    "In this exercise, we  will generate random numbers from the continuous disributions we learned in the lesson. There are two ways to generate random numbers:\n",
    "\n",
    "1. Using the numpy library \n",
    "1. using the Scipy library \n",
    "\n",
    "Use either or both of the lbraries in this exercise."
   ]
  },
  {
   "cell_type": "markdown",
   "metadata": {},
   "source": [
    "## Uniform Distribution\n",
    "\n",
    "To generate uniform random numbers between any two given values using scipy, we can either use the following code or the code that we have\n",
    "discussed in class:"
   ]
  },
  {
   "cell_type": "code",
   "execution_count": 21,
   "metadata": {},
   "outputs": [
    {
     "name": "stdout",
     "output_type": "stream",
     "text": [
      "[2.18961822 2.86578115 2.37554625 2.04405814 2.0858614  2.55317857\n",
      " 2.52215801 2.31677549 2.47529695 2.56196617]\n"
     ]
    }
   ],
   "source": [
    "from scipy.stats import uniform\n",
    "import matplotlib.pyplot as plt\n",
    "x = uniform.rvs(size=10)\n",
    "a = 2\n",
    "b = 3\n",
    "randoms  =a + (b-a)*x\n",
    "print(randoms)"
   ]
  },
  {
   "cell_type": "markdown",
   "metadata": {},
   "source": [
    "**Your task:**\n",
    "\n",
    "1. Based on the code above, write a function that generates uniformly distributed random numbers. There are several requirements for your function:\n",
    "    * It should accept 3 parameters: \n",
    "        * `bottom` - the lower boundary of the generated numbers\n",
    "        * `ceiling` - the upper boundary of the generated numbers\n",
    "        * `count` - how many numbers to generate\n",
    "    * It should return an array of uniformly distributed random numbers\n",
    "\n",
    "1. Call your function with 2 sets of params below:\n",
    "    * bottom=10, ceiling=15, count=100\n",
    "    * bottom=10, ceiling=60, count=1,000\n",
    "\n",
    "1. Plot the uniform distributions generated above using histograms, where x axis is the value and y axis is the count. Let the histogram's number of bins be 10.\n",
    "\n",
    "Your output should look like below:\n",
    "\n",
    "![uniform distribution](ud.png)"
   ]
  },
  {
   "cell_type": "code",
   "execution_count": 18,
   "metadata": {},
   "outputs": [
    {
     "data": {
      "text/plain": [
       "(array([ 98.,  95., 111.,  94.,  99., 100.,  87.,  95., 118., 103.]),\n",
       " array([10.02316343, 15.01854459, 20.01392575, 25.00930691, 30.00468807,\n",
       "        35.00006923, 39.99545039, 44.99083156, 49.98621272, 54.98159388,\n",
       "        59.97697504]),\n",
       " <BarContainer object of 10 artists>)"
      ]
     },
     "execution_count": 18,
     "metadata": {},
     "output_type": "execute_result"
    },
    {
     "data": {
      "image/png": "[encoded data removed]",
      "text/plain": [
       "<Figure size 432x288 with 2 Axes>"
      ]
     },
     "metadata": {
      "needs_background": "light"
     },
     "output_type": "display_data"
    }
   ],
   "source": [
    "# your code here\n",
    "def udr(bottom,ceiling,count):\n",
    "    x = uniform.rvs(size=count)\n",
    "    a = bottom\n",
    "    b = ceiling\n",
    "    randoms  = a + (b-a)*x\n",
    "    return randoms\n",
    "udr1=udr(10,15,100)\n",
    "udr2=udr(10,60,1000)\n",
    "\n",
    "fig, ax = plt.subplots(1, 2, sharey=True)\n",
    "ax[0].hist(x=udr1, bins=10)\n",
    "ax[1].hist(x=udr2,bins=10)"
   ]
  },
  {
   "cell_type": "markdown",
   "metadata": {},
   "source": [
    "How are the two distributions different?"
   ]
  },
  {
   "cell_type": "code",
   "execution_count": null,
   "metadata": {},
   "outputs": [],
   "source": [
    "# your answer below\n",
    "#A simple vista son muy parecidas solo cambia el valor de elementos de 100 a 1000 y los extremos de 15 a 60 pero \n",
    "#la mayoría de los rangos de valores se repiten de manera uniforme solo aumenta el número en que se repiten porque \n",
    "#son mas datos y de donde a donde van "
   ]
  },
  {
   "cell_type": "markdown",
   "metadata": {},
   "source": [
    "## Normal Distribution\n",
    "\n",
    "1. In the same way in the Uniform Distribution challenge, write a function that generates normally distributed random numbers.\n",
    "1. Generate 1,000 normally distributed numbers with the average of 10 and standard deviation of 1\n",
    "1. Generate 1,000 normally distributed numbers with the average of 10 and standard deviation of 50\n",
    "2. Plot the distributions of the data generated.\n",
    "\n",
    "Expected output:\n",
    "\n",
    "![normal distribution](nd.png)"
   ]
  },
  {
   "cell_type": "code",
   "execution_count": 25,
   "metadata": {},
   "outputs": [
    {
     "data": {
      "text/plain": [
       "(array([ 2.,  0.,  1.,  0.,  0.,  4.,  2.,  4.,  2.,  7., 14., 12., 12.,\n",
       "        17., 21., 32., 33., 28., 38., 35., 45., 39., 52., 47., 52., 52.,\n",
       "        47., 46., 45., 34., 35., 32., 48., 37., 17., 16., 21.,  9., 18.,\n",
       "        10.,  6.,  8.,  6.,  2.,  4.,  2.,  3.,  1.,  1.,  1.]),\n",
       " array([-147.04135322, -140.87192364, -134.70249407, -128.53306449,\n",
       "        -122.36363491, -116.19420534, -110.02477576, -103.85534619,\n",
       "         -97.68591661,  -91.51648703,  -85.34705746,  -79.17762788,\n",
       "         -73.00819831,  -66.83876873,  -60.66933915,  -54.49990958,\n",
       "         -48.33048   ,  -42.16105043,  -35.99162085,  -29.82219127,\n",
       "         -23.6527617 ,  -17.48333212,  -11.31390255,   -5.14447297,\n",
       "           1.02495661,    7.19438618,   13.36381576,   19.53324533,\n",
       "          25.70267491,   31.87210449,   38.04153406,   44.21096364,\n",
       "          50.38039321,   56.54982279,   62.71925237,   68.88868194,\n",
       "          75.05811152,   81.22754109,   87.39697067,   93.56640025,\n",
       "          99.73582982,  105.9052594 ,  112.07468897,  118.24411855,\n",
       "         124.41354813,  130.5829777 ,  136.75240728,  142.92183686,\n",
       "         149.09126643,  155.26069601,  161.43012558]),\n",
       " <BarContainer object of 50 artists>)"
      ]
     },
     "execution_count": 25,
     "metadata": {},
     "output_type": "execute_result"
    },
    {
     "data": {
      "image/png": "[encoded data removed]",
      "text/plain": [
       "<Figure size 432x288 with 2 Axes>"
      ]
     },
     "metadata": {
      "needs_background": "light"
     },
     "output_type": "display_data"
    }
   ],
   "source": [
    "# your code here\n",
    "from scipy.stats import norm\n",
    "def ndr(avg,std,count):\n",
    "    normal = norm(avg,std)\n",
    "    n=normal.rvs(count)\n",
    "    return n\n",
    "ndr1=ndr(10,1,1000)\n",
    "ndr2=ndr(10,50,1000)\n",
    "\n",
    "fig, ax = plt.subplots(1, 2, sharey=True)\n",
    "ax[0].hist(x=ndr1, bins=50)\n",
    "ax[1].hist(x=ndr2,bins=50)"
   ]
  },
  {
   "cell_type": "markdown",
   "metadata": {},
   "source": [
    "How are the two distributions different?"
   ]
  },
  {
   "cell_type": "code",
   "execution_count": 26,
   "metadata": {},
   "outputs": [],
   "source": [
    "# your answer below\n",
    "#La forma es muy similar pero el promedio y la desviación estandar afectan a la posicion de la distribución\n",
    "#con respecto al eje x "
   ]
  },
  {
   "cell_type": "markdown",
   "metadata": {},
   "source": [
    "## Normal Distribution of Real Data\n",
    "\n",
    "In this challenge we are going to take a look the real data. We will use vehicles.csv file for this exercise"
   ]
  },
  {
   "cell_type": "code",
   "execution_count": 28,
   "metadata": {},
   "outputs": [
    {
     "data": {
      "text/html": [
       "<div>\n",
       "<style scoped>\n",
       "    .dataframe tbody tr th:only-of-type {\n",
       "        vertical-align: middle;\n",
       "    }\n",
       "\n",
       "    .dataframe tbody tr th {\n",
       "        vertical-align: top;\n",
       "    }\n",
       "\n",
       "    .dataframe thead th {\n",
       "        text-align: right;\n",
       "    }\n",
       "</style>\n",
       "<table border=\"1\" class=\"dataframe\">\n",
       "  <thead>\n",
       "    <tr style=\"text-align: right;\">\n",
       "      <th></th>\n",
       "      <th>Make</th>\n",
       "      <th>Model</th>\n",
       "      <th>Year</th>\n",
       "      <th>Engine Displacement</th>\n",
       "      <th>Cylinders</th>\n",
       "      <th>Transmission</th>\n",
       "      <th>Drivetrain</th>\n",
       "      <th>Vehicle Class</th>\n",
       "      <th>Fuel Type</th>\n",
       "      <th>Fuel Barrels/Year</th>\n",
       "      <th>City MPG</th>\n",
       "      <th>Highway MPG</th>\n",
       "      <th>Combined MPG</th>\n",
       "      <th>CO2 Emission Grams/Mile</th>\n",
       "      <th>Fuel Cost/Year</th>\n",
       "    </tr>\n",
       "  </thead>\n",
       "  <tbody>\n",
       "    <tr>\n",
       "      <th>0</th>\n",
       "      <td>AM General</td>\n",
       "      <td>DJ Po Vehicle 2WD</td>\n",
       "      <td>1984</td>\n",
       "      <td>2.5</td>\n",
       "      <td>4.0</td>\n",
       "      <td>Automatic 3-spd</td>\n",
       "      <td>2-Wheel Drive</td>\n",
       "      <td>Special Purpose Vehicle 2WD</td>\n",
       "      <td>Regular</td>\n",
       "      <td>19.388824</td>\n",
       "      <td>18</td>\n",
       "      <td>17</td>\n",
       "      <td>17</td>\n",
       "      <td>522.764706</td>\n",
       "      <td>1950</td>\n",
       "    </tr>\n",
       "    <tr>\n",
       "      <th>1</th>\n",
       "      <td>AM General</td>\n",
       "      <td>FJ8c Post Office</td>\n",
       "      <td>1984</td>\n",
       "      <td>4.2</td>\n",
       "      <td>6.0</td>\n",
       "      <td>Automatic 3-spd</td>\n",
       "      <td>2-Wheel Drive</td>\n",
       "      <td>Special Purpose Vehicle 2WD</td>\n",
       "      <td>Regular</td>\n",
       "      <td>25.354615</td>\n",
       "      <td>13</td>\n",
       "      <td>13</td>\n",
       "      <td>13</td>\n",
       "      <td>683.615385</td>\n",
       "      <td>2550</td>\n",
       "    </tr>\n",
       "    <tr>\n",
       "      <th>2</th>\n",
       "      <td>AM General</td>\n",
       "      <td>Post Office DJ5 2WD</td>\n",
       "      <td>1985</td>\n",
       "      <td>2.5</td>\n",
       "      <td>4.0</td>\n",
       "      <td>Automatic 3-spd</td>\n",
       "      <td>Rear-Wheel Drive</td>\n",
       "      <td>Special Purpose Vehicle 2WD</td>\n",
       "      <td>Regular</td>\n",
       "      <td>20.600625</td>\n",
       "      <td>16</td>\n",
       "      <td>17</td>\n",
       "      <td>16</td>\n",
       "      <td>555.437500</td>\n",
       "      <td>2100</td>\n",
       "    </tr>\n",
       "    <tr>\n",
       "      <th>3</th>\n",
       "      <td>AM General</td>\n",
       "      <td>Post Office DJ8 2WD</td>\n",
       "      <td>1985</td>\n",
       "      <td>4.2</td>\n",
       "      <td>6.0</td>\n",
       "      <td>Automatic 3-spd</td>\n",
       "      <td>Rear-Wheel Drive</td>\n",
       "      <td>Special Purpose Vehicle 2WD</td>\n",
       "      <td>Regular</td>\n",
       "      <td>25.354615</td>\n",
       "      <td>13</td>\n",
       "      <td>13</td>\n",
       "      <td>13</td>\n",
       "      <td>683.615385</td>\n",
       "      <td>2550</td>\n",
       "    </tr>\n",
       "    <tr>\n",
       "      <th>4</th>\n",
       "      <td>ASC Incorporated</td>\n",
       "      <td>GNX</td>\n",
       "      <td>1987</td>\n",
       "      <td>3.8</td>\n",
       "      <td>6.0</td>\n",
       "      <td>Automatic 4-spd</td>\n",
       "      <td>Rear-Wheel Drive</td>\n",
       "      <td>Midsize Cars</td>\n",
       "      <td>Premium</td>\n",
       "      <td>20.600625</td>\n",
       "      <td>14</td>\n",
       "      <td>21</td>\n",
       "      <td>16</td>\n",
       "      <td>555.437500</td>\n",
       "      <td>2550</td>\n",
       "    </tr>\n",
       "  </tbody>\n",
       "</table>\n",
       "</div>"
      ],
      "text/plain": [
       "               Make                Model  Year  Engine Displacement  \\\n",
       "0        AM General    DJ Po Vehicle 2WD  1984                  2.5   \n",
       "1        AM General     FJ8c Post Office  1984                  4.2   \n",
       "2        AM General  Post Office DJ5 2WD  1985                  2.5   \n",
       "3        AM General  Post Office DJ8 2WD  1985                  4.2   \n",
       "4  ASC Incorporated                  GNX  1987                  3.8   \n",
       "\n",
       "   Cylinders     Transmission        Drivetrain                Vehicle Class  \\\n",
       "0        4.0  Automatic 3-spd     2-Wheel Drive  Special Purpose Vehicle 2WD   \n",
       "1        6.0  Automatic 3-spd     2-Wheel Drive  Special Purpose Vehicle 2WD   \n",
       "2        4.0  Automatic 3-spd  Rear-Wheel Drive  Special Purpose Vehicle 2WD   \n",
       "3        6.0  Automatic 3-spd  Rear-Wheel Drive  Special Purpose Vehicle 2WD   \n",
       "4        6.0  Automatic 4-spd  Rear-Wheel Drive                 Midsize Cars   \n",
       "\n",
       "  Fuel Type  Fuel Barrels/Year  City MPG  Highway MPG  Combined MPG  \\\n",
       "0   Regular          19.388824        18           17            17   \n",
       "1   Regular          25.354615        13           13            13   \n",
       "2   Regular          20.600625        16           17            16   \n",
       "3   Regular          25.354615        13           13            13   \n",
       "4   Premium          20.600625        14           21            16   \n",
       "\n",
       "   CO2 Emission Grams/Mile  Fuel Cost/Year  \n",
       "0               522.764706            1950  \n",
       "1               683.615385            2550  \n",
       "2               555.437500            2100  \n",
       "3               683.615385            2550  \n",
       "4               555.437500            2550  "
      ]
     },
     "execution_count": 28,
     "metadata": {},
     "output_type": "execute_result"
    }
   ],
   "source": [
    "import pandas as pd \n",
    "data = pd.read_csv('vehicles.csv')\n",
    "data.head()"
   ]
  },
  {
   "cell_type": "markdown",
   "metadata": {},
   "source": [
    "First import vehicles.csv.\n",
    "Then plot the histograms for the following variables:\n",
    "\n",
    "1. Fuel Barrels/Year"
   ]
  },
  {
   "cell_type": "code",
   "execution_count": 49,
   "metadata": {},
   "outputs": [
    {
     "data": {
      "text/plain": [
       "17.609055502328875"
      ]
     },
     "execution_count": 49,
     "metadata": {},
     "output_type": "execute_result"
    },
    {
     "data": {
      "image/png": "[encoded data removed]",
      "text/plain": [
       "<Figure size 432x288 with 1 Axes>"
      ]
     },
     "metadata": {
      "needs_background": "light"
     },
     "output_type": "display_data"
    }
   ],
   "source": [
    "# your code here\n",
    "data[\"Fuel Barrels/Year\"].plot.hist(bins=50)\n",
    "data[\"Fuel Barrels/Year\"].mean()"
   ]
  },
  {
   "cell_type": "markdown",
   "metadata": {},
   "source": [
    "2. CO2 Emission Grams/Mile "
   ]
  },
  {
   "cell_type": "code",
   "execution_count": 48,
   "metadata": {},
   "outputs": [
    {
     "data": {
      "text/plain": [
       "475.31633925715045"
      ]
     },
     "execution_count": 48,
     "metadata": {},
     "output_type": "execute_result"
    },
    {
     "data": {
      "image/png": "[encoded data removed]",
      "text/plain": [
       "<Figure size 432x288 with 1 Axes>"
      ]
     },
     "metadata": {
      "needs_background": "light"
     },
     "output_type": "display_data"
    }
   ],
   "source": [
    "# your code here\n",
    "data[\"CO2 Emission Grams/Mile\"].plot.hist(bins=50)\n",
    "data[\"CO2 Emission Grams/Mile\"].mean()"
   ]
  },
  {
   "cell_type": "markdown",
   "metadata": {},
   "source": [
    "3. Combined MPG"
   ]
  },
  {
   "cell_type": "code",
   "execution_count": 50,
   "metadata": {},
   "outputs": [
    {
     "data": {
      "text/plain": [
       "19.92932242990654"
      ]
     },
     "execution_count": 50,
     "metadata": {},
     "output_type": "execute_result"
    },
    {
     "data": {
      "image/png": "[encoded data removed]",
      "text/plain": [
       "<Figure size 432x288 with 1 Axes>"
      ]
     },
     "metadata": {
      "needs_background": "light"
     },
     "output_type": "display_data"
    }
   ],
   "source": [
    "# your code here\n",
    "data[\"Combined MPG\"].plot.hist(bins=50)\n",
    "data[\"Combined MPG\"].mean()"
   ]
  },
  {
   "cell_type": "markdown",
   "metadata": {},
   "source": [
    "Which one(s) of the variables are nearly normally distributed? How do you know?"
   ]
  },
  {
   "cell_type": "code",
   "execution_count": null,
   "metadata": {},
   "outputs": [],
   "source": [
    "# your answer here\n",
    "#Creo que la última es la que menos podría ser normal puesto que la mayoría de los datos estan hacia la izquierda"
   ]
  },
  {
   "cell_type": "markdown",
   "metadata": {},
   "source": [
    "## Exponential Distribution"
   ]
  },
  {
   "cell_type": "markdown",
   "metadata": {},
   "source": [
    "1. Using `numpy.random.exponential`, create a function that returns a list of numbers exponentially distributed with the mean of 10. \n",
    "\n",
    "1. Use the function to generate two number sequences with the size of 1 and 100.\n",
    "\n",
    "1. Plot the distributions as histograms with the nubmer of bins as 100.\n",
    "\n",
    "Your output should look like below:\n",
    "\n",
    "![exponential distribution](ed.png)"
   ]
  },
  {
   "cell_type": "code",
   "execution_count": 81,
   "metadata": {},
   "outputs": [
    {
     "data": {
      "text/plain": [
       "(array([70., 61., 67., 62., 44., 52., 45., 44., 42., 32., 30., 30., 35.,\n",
       "        27., 32., 20., 30., 28., 14., 13., 17., 13., 19., 10.,  9., 13.,\n",
       "        12., 11.,  7., 11.,  8.,  8.,  4.,  3.,  4.,  3.,  5.,  8.,  6.,\n",
       "         3.,  2.,  2.,  2.,  2.,  1.,  4.,  1.,  2.,  3.,  3.,  2.,  0.,\n",
       "         3.,  1.,  1.,  1.,  3.,  0.,  1.,  1.,  1.,  1.,  0.,  0.,  2.,\n",
       "         0.,  0.,  0.,  0.,  1.,  2.,  0.,  0.,  1.,  0.,  0.,  0.,  0.,\n",
       "         0.,  0.,  0.,  0.,  0.,  0.,  0.,  1.,  0.,  0.,  0.,  0.,  0.,\n",
       "         2.,  0.,  0.,  0.,  0.,  0.,  0.,  1.,  1.]),\n",
       " array([5.20540468e-02, 7.96573470e-01, 1.54109289e+00, 2.28561232e+00,\n",
       "        3.03013174e+00, 3.77465116e+00, 4.51917059e+00, 5.26369001e+00,\n",
       "        6.00820943e+00, 6.75272885e+00, 7.49724828e+00, 8.24176770e+00,\n",
       "        8.98628712e+00, 9.73080655e+00, 1.04753260e+01, 1.12198454e+01,\n",
       "        1.19643648e+01, 1.27088842e+01, 1.34534037e+01, 1.41979231e+01,\n",
       "        1.49424425e+01, 1.56869619e+01, 1.64314814e+01, 1.71760008e+01,\n",
       "        1.79205202e+01, 1.86650396e+01, 1.94095590e+01, 2.01540785e+01,\n",
       "        2.08985979e+01, 2.16431173e+01, 2.23876367e+01, 2.31321562e+01,\n",
       "        2.38766756e+01, 2.46211950e+01, 2.53657144e+01, 2.61102339e+01,\n",
       "        2.68547533e+01, 2.75992727e+01, 2.83437921e+01, 2.90883115e+01,\n",
       "        2.98328310e+01, 3.05773504e+01, 3.13218698e+01, 3.20663892e+01,\n",
       "        3.28109087e+01, 3.35554281e+01, 3.42999475e+01, 3.50444669e+01,\n",
       "        3.57889864e+01, 3.65335058e+01, 3.72780252e+01, 3.80225446e+01,\n",
       "        3.87670640e+01, 3.95115835e+01, 4.02561029e+01, 4.10006223e+01,\n",
       "        4.17451417e+01, 4.24896612e+01, 4.32341806e+01, 4.39787000e+01,\n",
       "        4.47232194e+01, 4.54677389e+01, 4.62122583e+01, 4.69567777e+01,\n",
       "        4.77012971e+01, 4.84458165e+01, 4.91903360e+01, 4.99348554e+01,\n",
       "        5.06793748e+01, 5.14238942e+01, 5.21684137e+01, 5.29129331e+01,\n",
       "        5.36574525e+01, 5.44019719e+01, 5.51464914e+01, 5.58910108e+01,\n",
       "        5.66355302e+01, 5.73800496e+01, 5.81245690e+01, 5.88690885e+01,\n",
       "        5.96136079e+01, 6.03581273e+01, 6.11026467e+01, 6.18471662e+01,\n",
       "        6.25916856e+01, 6.33362050e+01, 6.40807244e+01, 6.48252439e+01,\n",
       "        6.55697633e+01, 6.63142827e+01, 6.70588021e+01, 6.78033215e+01,\n",
       "        6.85478410e+01, 6.92923604e+01, 7.00368798e+01, 7.07813992e+01,\n",
       "        7.15259187e+01, 7.22704381e+01, 7.30149575e+01, 7.37594769e+01,\n",
       "        7.45039964e+01]),\n",
       " <BarContainer object of 100 artists>)"
      ]
     },
     "execution_count": 81,
     "metadata": {},
     "output_type": "execute_result"
    },
    {
     "data": {
      "image/png": "[encoded data removed]",
      "text/plain": [
       "<Figure size 432x288 with 2 Axes>"
      ]
     },
     "metadata": {
      "needs_background": "light"
     },
     "output_type": "display_data"
    }
   ],
   "source": [
    "# your code here\n",
    "import numpy as np \n",
    "def edr(size):\n",
    "    exp=np.random.exponential(10,size)\n",
    "    return exp\n",
    "\n",
    "edr1=edr(100)\n",
    "edr2=edr(1000)\n",
    "#Le puse estos tamaños porque con 1 solo da un resultado y con estos tamaños se parecian mas las gráficas \n",
    "fig, ax = plt.subplots(1, 2, sharey=False)\n",
    "ax[0].hist(x=edr1, bins=100)\n",
    "ax[1].hist(x=edr2,bins=100)\n"
   ]
  },
  {
   "cell_type": "markdown",
   "metadata": {},
   "source": [
    "How are the two distributions different?"
   ]
  },
  {
   "cell_type": "code",
   "execution_count": null,
   "metadata": {},
   "outputs": [],
   "source": [
    "# your answer here\n",
    "#Entre mas cantidad de datos hay, la gráfica se acerca a la forma deseada"
   ]
  },
  {
   "cell_type": "markdown",
   "metadata": {},
   "source": [
    "## Exponential Distribution of Real Data\n",
    "\n",
    "Suppose that the amount of time one spends in a bank is exponentially distributed with mean as 10 minutes (i.e. λ = 1/10). What is the probability that a customer will spend less than fifteen minutes in the bank? \n",
    "\n",
    "Write a code in python to solve this problem"
   ]
  },
  {
   "cell_type": "code",
   "execution_count": 89,
   "metadata": {},
   "outputs": [
    {
     "name": "stdout",
     "output_type": "stream",
     "text": [
      "prob= 0.9999990810186421\n"
     ]
    }
   ],
   "source": [
    "# your answer here\n",
    "# Hint: This is same as saying P(x<15)\n",
    "from scipy.stats import expon\n",
    "exp = expon(1/10) \n",
    "print(\"prob=\",exp.cdf(14)) "
   ]
  },
  {
   "cell_type": "markdown",
   "metadata": {},
   "source": [
    "What is the probability that the customer will spend more than 15 minutes"
   ]
  },
  {
   "cell_type": "code",
   "execution_count": null,
   "metadata": {},
   "outputs": [],
   "source": [
    "# your answer here"
   ]
  },
  {
   "cell_type": "code",
   "execution_count": 90,
   "metadata": {},
   "outputs": [
    {
     "name": "stdout",
     "output_type": "stream",
     "text": [
      "prob= 9.189813579002504e-07\n"
     ]
    }
   ],
   "source": [
    "print(\"prob=\", 1-exp.cdf(14))"
   ]
  }
 ],
 "metadata": {
  "kernelspec": {
   "display_name": "Python 3",
   "language": "python",
   "name": "python3"
  },
  "language_info": {
   "codemirror_mode": {
    "name": "ipython",
    "version": 3
   },
   "file_extension": ".py",
   "mimetype": "text/x-python",
   "name": "python",
   "nbconvert_exporter": "python",
   "pygments_lexer": "ipython3",
   "version": "3.8.8"
  }
 },
 "nbformat": 4,
 "nbformat_minor": 2
}
